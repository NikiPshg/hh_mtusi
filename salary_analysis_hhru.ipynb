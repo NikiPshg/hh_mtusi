{
 "cells": [
  {
   "cell_type": "code",
   "execution_count": null,
   "metadata": {},
   "outputs": [
    {
     "ename": "",
     "evalue": "",
     "output_type": "error",
     "traceback": [
      "\u001b[1;31mRunning cells with 'hh_mtusi-rWXyLkfk (Python 3.11.5)' requires the ipykernel package.\n",
      "\u001b[1;31mRun the following command to install 'ipykernel' into the Python environment. \n",
      "\u001b[1;31mCommand: 'c:/Users/nicit/.virtualenvs/hh_mtusi-rWXyLkfk/Scripts/python.exe -m pip install ipykernel -U --force-reinstall'"
     ]
    }
   ],
   "source": [
    "!pip install requests"
   ]
  },
  {
   "cell_type": "code",
   "execution_count": null,
   "metadata": {},
   "outputs": [],
   "source": [
    "import requests\n",
    "\n",
    "def get_vacancies(keyword, page=0, per_page=10 , area = 1):\n",
    "    url = 'https://api.hh.ru/vacancies'\n",
    "    params = {\n",
    "        'text': keyword,  # Ключевое слово для поиска\n",
    "        'page': page,     # Номер страницы поиска\n",
    "        'per_page': per_page,\n",
    "        'area' : area  # Количество вакансий на странице\n",
    "    }\n",
    "    response = requests.get(url, params=params)\n",
    "    return response.json()\n",
    "\n",
    "def main(keyword): \n",
    "    vacancies = get_vacancies(keyword)\n",
    "\n",
    "    return vacancies"
   ]
  },
  {
   "cell_type": "code",
   "execution_count": null,
   "metadata": {},
   "outputs": [],
   "source": [
    "vacancies = main()"
   ]
  },
  {
   "cell_type": "code",
   "execution_count": null,
   "metadata": {},
   "outputs": [],
   "source": [
    "def print_if_not_none(inp):\n",
    "    if inp is None:\n",
    "        return \"Нет Информации\"\n",
    "    else:\n",
    "        print(inp)\n"
   ]
  },
  {
   "cell_type": "code",
   "execution_count": null,
   "metadata": {},
   "outputs": [],
   "source": [
    "def chek_salary(inp):\n",
    "    if inp is None:\n",
    "        return \"Не указано\"\n",
    "    else:\n",
    "        return inp['from']"
   ]
  },
  {
   "cell_type": "code",
   "execution_count": null,
   "metadata": {},
   "outputs": [],
   "source": [
    "vacancies = main()"
   ]
  }
 ],
 "metadata": {
  "kernelspec": {
   "display_name": "Python 3",
   "language": "python",
   "name": "python3"
  },
  "language_info": {
   "codemirror_mode": {
    "name": "ipython",
    "version": 3
   },
   "file_extension": ".py",
   "mimetype": "text/x-python",
   "name": "python",
   "nbconvert_exporter": "python",
   "pygments_lexer": "ipython3",
   "version": "3.11.5"
  }
 },
 "nbformat": 4,
 "nbformat_minor": 2
}
